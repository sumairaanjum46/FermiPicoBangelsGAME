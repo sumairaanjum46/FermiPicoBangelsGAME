{
  "nbformat": 4,
  "nbformat_minor": 0,
  "metadata": {
    "colab": {
      "provenance": [],
      "authorship_tag": "ABX9TyPsmLi4hfgQw2YgHRkEJUsd",
      "include_colab_link": true
    },
    "kernelspec": {
      "name": "python3",
      "display_name": "Python 3"
    },
    "language_info": {
      "name": "python"
    }
  },
  "cells": [
    {
      "cell_type": "markdown",
      "metadata": {
        "id": "view-in-github",
        "colab_type": "text"
      },
      "source": [
        "<a href=\"https://colab.research.google.com/github/sumairaanjum46/FermiPicoBangelsGAME/blob/main/Fermi_Pico_Bnagels_Game.ipynb\" target=\"_parent\"><img src=\"https://colab.research.google.com/assets/colab-badge.svg\" alt=\"Open In Colab\"/></a>"
      ]
    },
    {
      "cell_type": "code",
      "execution_count": 1,
      "metadata": {
        "colab": {
          "base_uri": "https://localhost:8080/"
        },
        "id": "94XSdSElhnPh",
        "outputId": "48e76978-5c6f-4fd5-cf03-2585318a6c5f"
      },
      "outputs": [
        {
          "output_type": "stream",
          "name": "stdout",
          "text": [
            "\n",
            "Guess the number: 876\n",
            "Enter 4 digit number\n",
            "\n",
            "Guess the number: 5467\n",
            " Fermi Fermi\n",
            "\n",
            "Guess the number: 5489\n",
            " Fermi  Fermi  Fermi  Fermi \n",
            "\n",
            "You won !!\n"
          ]
        }
      ],
      "source": [
        "original_number = '5489'  #You can write any number\n",
        "\n",
        "while True :\n",
        "    output = []\n",
        "    guess_number = input('\\nGuess the number: ')\n",
        "\n",
        "    if len((guess_number)) != len(original_number):\n",
        "        print(f'Enter {len(original_number)} digit number')\n",
        "        continue\n",
        "\n",
        "    if len(guess_number)  != len(set(guess_number)):\n",
        "        print('Duplicate number')\n",
        "        continue\n",
        "\n",
        "    if (int(guess_number) - int(original_number)) == 0 :\n",
        "        print(' Fermi '*len(original_number))\n",
        "        print('\\nYou won !!')\n",
        "        break\n",
        "\n",
        "    for i in range(len(original_number)):\n",
        "        for j in range(len(guess_number)):\n",
        "            if original_number[i] == guess_number[j]:\n",
        "                if i == j:\n",
        "                    output.append('Fermi')\n",
        "                else:\n",
        "                    output.append('Pico')\n",
        "\n",
        "    output_string = ''\n",
        "    for item in output :\n",
        "        output_string = output_string + ' ' + item\n",
        "\n",
        "\n",
        "    if len(output) == 0:\n",
        "        print(' Bagels')\n",
        "    else:\n",
        "        print(output_string)\n"
      ]
    }
  ]
}